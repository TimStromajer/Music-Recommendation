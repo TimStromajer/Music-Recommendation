{
 "cells": [
  {
   "cell_type": "markdown",
   "metadata": {},
   "source": [
    "# Intelligent systems course DVA439\n",
    "## Music recommendation application"
   ]
  },
  {
   "cell_type": "code",
   "execution_count": null,
   "metadata": {},
   "outputs": [],
   "source": [
    "import numpy as np\n",
    "import pandas as pd\n",
    "import matplotlib.pyplot as plt\n",
    "import plotly.express as px\n",
    "import seaborn as sns\n",
    "import spotipy\n",
    "import os\n",
    "%matplotlib inline"
   ]
  },
  {
   "cell_type": "markdown",
   "metadata": {},
   "source": [
    "### Reading the data"
   ]
  },
  {
   "cell_type": "code",
   "execution_count": null,
   "metadata": {},
   "outputs": [],
   "source": [
    "spotify_data = pd.read_csv('./data/kaggle_spotify2/tracks.csv')\n",
    "spotify_data = spotify_data.replace({'year': '[0-9]{2}/[0-9]{2}/'}, {'year': ''}, regex=True)\n",
    "spotify_data = spotify_data.replace({'year': '-[0-9]{2}'}, {'year': ''}, regex=True)\n",
    "spotify_data.head()"
   ]
  },
  {
   "cell_type": "markdown",
   "metadata": {},
   "source": [
    "### Values of top 10 most popular songs"
   ]
  },
  {
   "cell_type": "code",
   "execution_count": null,
   "metadata": {
    "jupyter": {
     "outputs_hidden": true
    }
   },
   "outputs": [],
   "source": [
    "top10_songs = spotify_data.nlargest(15, 'popularity')\n",
    "fig = px.bar(top10_songs, x='name', y=['valence', 'energy', 'danceability', 'acousticness'], barmode='group')\n",
    "fig.show()"
   ]
  },
  {
   "cell_type": "markdown",
   "metadata": {},
   "source": [
    "### Clustering Songs with K-Means"
   ]
  },
  {
   "cell_type": "code",
   "execution_count": null,
   "metadata": {
    "jupyter": {
     "outputs_hidden": true
    }
   },
   "outputs": [],
   "source": [
    "from sklearn.cluster import KMeans\n",
    "from sklearn.preprocessing import StandardScaler\n",
    "from sklearn.pipeline import Pipeline\n",
    "\n",
    "song_cluster_pipeline = Pipeline([('scaler', StandardScaler()), \n",
    "                                  ('kmeans', KMeans(n_clusters=20, \n",
    "                                   verbose=2))],verbose=True)\n",
    "X = spotify_data.select_dtypes(np.number)\n",
    "number_cols = list(X.columns)\n",
    "song_cluster_pipeline.fit(X)\n",
    "song_cluster_labels = song_cluster_pipeline.predict(X)\n",
    "spotify_data['cluster_label'] = song_cluster_labels"
   ]
  },
  {
   "cell_type": "markdown",
   "metadata": {},
   "source": [
    "### Visualizing the Song Clusters with PCA"
   ]
  },
  {
   "cell_type": "code",
   "execution_count": null,
   "metadata": {},
   "outputs": [],
   "source": [
    "from sklearn.decomposition import PCA\n",
    "pca_pipeline = Pipeline([('scaler', StandardScaler()), ('PCA', PCA(n_components=2))])\n",
    "song_embedding = pca_pipeline.fit_transform(X)\n",
    "projection = pd.DataFrame(columns=['x', 'y'], data=song_embedding)\n",
    "projection['title'] = spotify_data['name']\n",
    "projection['cluster'] = spotify_data['cluster_label']"
   ]
  },
  {
   "cell_type": "code",
   "execution_count": null,
   "metadata": {
    "jupyter": {
     "outputs_hidden": true
    }
   },
   "outputs": [],
   "source": [
    "import plotly.express as px\n",
    "fig = px.scatter(projection, x='x', y='y', color='cluster', hover_data=['x', 'y', 'title'])\n",
    "fig.show()"
   ]
  },
  {
   "cell_type": "markdown",
   "metadata": {},
   "source": [
    "## Finding songs with spotipy that are not in the dataset"
   ]
  },
  {
   "cell_type": "code",
   "execution_count": null,
   "metadata": {},
   "outputs": [],
   "source": [
    "import spotipy\n",
    "import pandas as pd\n",
    "from spotipy.oauth2 import SpotifyClientCredentials\n",
    "from collections import defaultdict\n",
    "\n",
    "client_id = \"4813df40c194459085aed9c3ce7add62\"\n",
    "client_secret = \"a30fdf36eca04b9186c75432d4ae27f3\"\n",
    "\n",
    "sp = spotipy.Spotify(auth_manager=SpotifyClientCredentials(client_id, client_secret))\n"
   ]
  },
  {
   "cell_type": "markdown",
   "metadata": {},
   "source": [
    "### Find a song based on the title and year\n",
    "#### This function returns a dataframe with data for a song given the name and release year. The function uses Spotipy to fetch audio features and metadata for the specified song."
   ]
  },
  {
   "cell_type": "code",
   "execution_count": null,
   "metadata": {},
   "outputs": [],
   "source": [
    "def find_song(name, year=0):\n",
    "    song_data = defaultdict()\n",
    "    if year == 0:\n",
    "        results = sp.search(q= 'track: {}'.format(name), limit=1) \n",
    "    else:\n",
    "        results = sp.search(q= 'track: {} year: {}'.format(name, year), limit=1)\n",
    "    if results['tracks']['items'] == []:\n",
    "        return None\n",
    "    \n",
    "    results = results['tracks']['items'][0]\n",
    "\n",
    "    track_id = results['id']\n",
    "    audio_features = sp.audio_features(track_id)[0]\n",
    "    \n",
    "    song_data['name'] = [name]\n",
    "    song_data['year'] = [year]\n",
    "    song_data['explicit'] = [int(results['explicit'])]\n",
    "    song_data['duration_ms'] = [results['duration_ms']]\n",
    "    song_data['popularity'] = [results['popularity']]\n",
    "    \n",
    "    for key, value in audio_features.items():\n",
    "        song_data[key] = value\n",
    "    \n",
    "    return pd.DataFrame(song_data)\n",
    "\n",
    "\n",
    "def find_songs(songs):\n",
    "    result = []\n",
    "    frames = []\n",
    "    for s in songs:\n",
    "        frame = find_song(s[\"name\"], s[\"year\"])\n",
    "        frames.append(frame)\n",
    "    result = pd.concat(frames)\n",
    "    return result"
   ]
  },
  {
   "cell_type": "code",
   "execution_count": null,
   "metadata": {},
   "outputs": [],
   "source": [
    "a = find_song(\"Euphoria\", 2012)\n",
    "a"
   ]
  },
  {
   "cell_type": "markdown",
   "metadata": {},
   "source": [
    "### Recommend songs"
   ]
  },
  {
   "cell_type": "code",
   "execution_count": null,
   "metadata": {},
   "outputs": [],
   "source": [
    "from collections import defaultdict\n",
    "from scipy.spatial.distance import cdist\n",
    "import difflib\n",
    "\n",
    "number_cols = ['valence', 'year', 'acousticness', 'danceability', 'duration_ms', 'energy', 'explicit',\n",
    " 'instrumentalness', 'key', 'liveness', 'loudness', 'mode', 'popularity', 'speechiness', 'tempo']\n",
    "\n",
    "# Gets the song data for a specific song. The song argument takes the form of a dictionary with \n",
    "# key-value pairs for the name and release year of the song.\n",
    "def get_song_data(song, spotify_data):\n",
    "    try:\n",
    "        song_data = spotify_data[(spotify_data['name'] == song['name']) \n",
    "                                & (spotify_data['year'] == song['year'])].iloc[0]\n",
    "        return song_data\n",
    "    \n",
    "    except IndexError:\n",
    "        return find_song(song['name'], song['year'])\n",
    "        \n",
    "\n",
    "# Gets the mean vector for a list of songs.\n",
    "def get_mean_vector(song_list, spotify_data):\n",
    "    song_vectors = []\n",
    "    \n",
    "    for song in song_list:\n",
    "        song_data = get_song_data(song, spotify_data)\n",
    "        if song_data is None:\n",
    "            print('Warning: {} does not exist in Spotify or in database'.format(song['name']))\n",
    "            continue\n",
    "        song_vector = song_data[number_cols].values\n",
    "        song_vectors.append(song_vector)  \n",
    "    \n",
    "    song_matrix = np.array(list(song_vectors))\n",
    "    return np.mean(song_matrix, axis=0)\n",
    "\n",
    "# Utility function for flattening a list of dictionaries.\n",
    "def flatten_dict_list(dict_list):\n",
    "    flattened_dict = defaultdict()\n",
    "    for key in dict_list[0].keys():\n",
    "        flattened_dict[key] = []\n",
    "    \n",
    "    for dictionary in dict_list:\n",
    "        for key, value in dictionary.items():\n",
    "            flattened_dict[key].append(value)\n",
    "            \n",
    "    return flattened_dict\n",
    "       \n",
    "    \n",
    "# Recommends songs based on a list of previous songs that a user has listened to.\n",
    "def recommend_songs(song_list, spotify_data, n_songs=10):\n",
    "    metadata_cols = ['name', 'year', 'artists']\n",
    "    song_dict = flatten_dict_list(song_list)\n",
    "    \n",
    "    song_center = get_mean_vector(song_list, spotify_data)\n",
    "    scaler = song_cluster_pipeline.steps[0][1]\n",
    "    scaled_data = scaler.transform(spotify_data[number_cols])\n",
    "    display()\n",
    "    scaled_song_center = scaler.transform(song_center.reshape(1, -1))\n",
    "    distances = cdist(scaled_song_center, scaled_data, 'cosine')\n",
    "    index = list(np.argsort(distances)[:, :n_songs][0])\n",
    "    \n",
    "    rec_songs = spotify_data.iloc[index]\n",
    "    rec_songs = rec_songs[~rec_songs['name'].isin(song_dict['name'])]\n",
    "    return rec_songs[metadata_cols].to_dict(orient='records')"
   ]
  },
  {
   "cell_type": "markdown",
   "metadata": {},
   "source": [
    "### Recommend songs from a custom song list"
   ]
  },
  {
   "cell_type": "code",
   "execution_count": null,
   "metadata": {
    "scrolled": false
   },
   "outputs": [],
   "source": [
    "recommend_songs([{'name': 'Come As You Are', 'year':1991},\n",
    "                {'name': 'Smells Like Teen Spirit', 'year': 1991},\n",
    "                {'name': 'Lithium', 'year': 1992},\n",
    "                {'name': 'All Apologies', 'year': 1993},\n",
    "                {'name': 'Stay Away', 'year': 1993}],  spotify_data)"
   ]
  },
  {
   "cell_type": "code",
   "execution_count": null,
   "metadata": {
    "scrolled": true
   },
   "outputs": [],
   "source": [
    "recommend_songs([{'name': 'Toxicity', 'year':2001},\n",
    "                {'name': 'Forest', 'year': 2001},\n",
    "                {'name': 'B.Y.O.B.', 'year': 2005},\n",
    "                {'name':  'Chop suey', 'year': 2001},\n",
    "                {'name': 'Deer dance', 'year': 2001}], spotify_data)"
   ]
  },
  {
   "cell_type": "code",
   "execution_count": null,
   "metadata": {
    "scrolled": true
   },
   "outputs": [],
   "source": [
    "recommend_songs([{'name': 'Symphony No. 40 in G minor', 'year': 0},\n",
    "                {'name': 'Piano Concerto No. 21', 'year': 0},\n",
    "                {'name': 'Rondo for Piano in D Major, K. 485', 'year': 0},\n",
    "                {'name': 'Concerto for Piano No. 9 in E-flat major, K. 271 \"Jeunehomme\": II. Andantino', 'year': 0},\n",
    "                {'name': 'Concerto for Piano and Orchestra No. 23 in A Major, KV 488: Allegro assai', 'year': 0}], spotify_data)"
   ]
  },
  {
   "cell_type": "markdown",
   "metadata": {},
   "source": [
    "### Obtain artist and album genres"
   ]
  },
  {
   "cell_type": "code",
   "execution_count": null,
   "metadata": {},
   "outputs": [],
   "source": [
    "def album_artist_genres(name, year=0):\n",
    "    result = \"\"\n",
    "    if year == 0:\n",
    "        result = sp.search(q= 'track: {}'.format(name))\n",
    "    else:\n",
    "        result = sp.search(q= 'track: {}, year: {}'.format(name, year))\n",
    "        \n",
    "    # print(\"artist:\", result['tracks']['items'][0]['artists'][0][\"name\"])\n",
    "\n",
    "    result = sp.search(q= \"artist: {}\".format(result['tracks']['items'][0]['artists'][0][\"name\"]))\n",
    "    track = result['tracks']['items'][0]\n",
    "    \n",
    "    album = sp.album(track[\"album\"][\"external_urls\"][\"spotify\"])\n",
    "    # print(\"album genres:\", album[\"genres\"])\n",
    "\n",
    "    artist = sp.artist(track[\"artists\"][0][\"external_urls\"][\"spotify\"])\n",
    "    # print(\"artist genres:\", artist[\"genres\"])\n",
    "    \n",
    "    if len(album[\"genres\"]) > 0:\n",
    "        return album[\"genres\"]\n",
    "    else:\n",
    "        return artist[\"genres\"]"
   ]
  },
  {
   "cell_type": "code",
   "execution_count": null,
   "metadata": {},
   "outputs": [],
   "source": [
    "genres = album_artist_genres(\"Symphony No. 40 in G minor\", 0)\n",
    "genres"
   ]
  },
  {
   "cell_type": "code",
   "execution_count": null,
   "metadata": {},
   "outputs": [],
   "source": [
    "song_list = [{'name': 'Come As You Are', 'year':1991},\n",
    "            {'name': 'Smells Like Teen Spirit', 'year': 1991},\n",
    "            {'name': 'Lithium', 'year': 1992},\n",
    "            {'name': 'Toxicity', 'year':2001},\n",
    "            {'name': 'Forest', 'year': 2001},\n",
    "            {'name': 'B.Y.O.B.', 'year': 2005},\n",
    "            {'name': 'Symphony No. 40 in G minor', 'year': 0},\n",
    "            {'name': 'Piano Concerto No. 21', 'year': 0},\n",
    "            {'name': 'Rondo for Piano in D Major, K. 485', 'year': 0},\n",
    "            {'name': 'Euphoria', 'year': 2012},\n",
    "            {'name': 'Hello', 'year': 2015},\n",
    "            {'name': 'Someone like you', 'year': 2011}]\n",
    "\n",
    "song_list_data = find_songs(song_list)"
   ]
  },
  {
   "cell_type": "markdown",
   "metadata": {},
   "source": [
    "### Determine the number of clusters by grouping songs in genres"
   ]
  },
  {
   "cell_type": "code",
   "execution_count": null,
   "metadata": {},
   "outputs": [],
   "source": [
    "clusters = []\n",
    "for s in song_list:\n",
    "    genres = album_artist_genres(s[\"name\"], s[\"year\"])\n",
    "    cluster_found = 0\n",
    "    for idx, c in enumerate(clusters):\n",
    "        intersection_set = set.intersection(set(genres), set(c))\n",
    "        \n",
    "        # check if some cluster has similar genres\n",
    "        if len(intersection_set) >= len(genres) / 4 or len(intersection_set) > len(c):\n",
    "            # merge lists\n",
    "            clusters[idx].extend(list(set(genres) - set(c)))\n",
    "            cluster_found = 1\n",
    "            \n",
    "    if cluster_found == 0:\n",
    "        # add new list\n",
    "        clusters.append(genres)\n",
    "            \n",
    "clusters_num = len(clusters)\n",
    "print(clusters)\n",
    "print(\"number of clusters:\", clusters_num)"
   ]
  },
  {
   "cell_type": "markdown",
   "metadata": {},
   "source": [
    "### Recommend songs for each cluster"
   ]
  },
  {
   "cell_type": "code",
   "execution_count": null,
   "metadata": {
    "scrolled": true
   },
   "outputs": [],
   "source": [
    "def recommend_clusters(song_list_data, clusters_num):\n",
    "    allRecomendetSongs=[]\n",
    "    for i in range(clusters_num):\n",
    "        frame = song_list_data.loc[song_list_data['cluster_label'] == i]\n",
    "        song_list_cluster = []\n",
    "        for n,y in zip(frame[\"name\"], frame[\"year\"]):\n",
    "            song_list_cluster.append({\"name\": n, \"year\": y})\n",
    "        recommendet = recommend_songs(song_list_cluster, spotify_data, 3)\n",
    "        allRecomendetSongs += recommendet\n",
    "        display(pd.DataFrame.from_dict(song_list_cluster))\n",
    "        display(pd.DataFrame.from_dict(recommendet))\n",
    "        print(\"--------------------\")\n",
    "   # print(\"################ Sum recomondation #############\")\n",
    "   # print(allRecomendetSongs)\n",
    "    return allRecomendetSongs\n",
    "        "
   ]
  },
  {
   "cell_type": "markdown",
   "metadata": {},
   "source": [
    "### Recommend songs with k-clustering"
   ]
  },
  {
   "cell_type": "code",
   "execution_count": null,
   "metadata": {
    "scrolled": true
   },
   "outputs": [],
   "source": [
    "from sklearn.cluster import KMeans\n",
    "from sklearn.preprocessing import StandardScaler\n",
    "from sklearn.pipeline import Pipeline\n",
    "\n",
    "def K_clustering(input_songs):\n",
    "    song_cluster_pipeline = Pipeline([('scaler', StandardScaler()), \n",
    "                                      ('kmeans', KMeans(n_clusters=clusters_num))])\n",
    "    # song_list_data = find_songs(input_songs)\n",
    "    X = song_list_data.select_dtypes(np.number)\n",
    "    number_cols = list(X.columns)\n",
    "    song_cluster_pipeline.fit(X)\n",
    "    song_cluster_labels = song_cluster_pipeline.predict(X)\n",
    "    song_list_data['cluster_label'] = song_cluster_labels\n",
    "\n",
    "    k_recomSongs= recommend_clusters(song_list_data, clusters_num)\n",
    "    return k_recomSongs\n",
    "\n",
    "resK=K_clustering(song_list)\n",
    "table_birch=pd.DataFrame.from_dict(resK)\n",
    "display(table_birch)"
   ]
  },
  {
   "cell_type": "markdown",
   "metadata": {},
   "source": [
    "### Recommend songs with BIRCH clustering"
   ]
  },
  {
   "cell_type": "code",
   "execution_count": null,
   "metadata": {
    "scrolled": true
   },
   "outputs": [],
   "source": [
    "from sklearn.cluster import Birch\n",
    "\n",
    "def BIRCH_clustering():\n",
    "    model = Birch(threshold=0.01, n_clusters=clusters_num)\n",
    "    X = song_list_data.select_dtypes(np.number)\n",
    "    model.fit(X)\n",
    "    yhat = model.predict(X)\n",
    "    song_list_data['cluster_label'] = yhat\n",
    "\n",
    "    birch_recomSongs = recommend_clusters(song_list_data, clusters_num)\n",
    "    \n",
    "    return birch_recomSongs;\n",
    "\n",
    "restyty = BIRCH_clustering()"
   ]
  },
  {
   "cell_type": "markdown",
   "metadata": {},
   "source": [
    " ### Getting recommended songs from spotify and extracting the necessary information"
   ]
  },
  {
   "cell_type": "code",
   "execution_count": null,
   "metadata": {},
   "outputs": [],
   "source": [
    "\n",
    "#extract needed data from list of recomended spotify songs\n",
    "def spotifyRecomend_extractData(tracks):\n",
    "    res=[]    \n",
    "    for track in tracks['tracks']:   \n",
    "        trck={\n",
    "            'name': track['name'],\n",
    "            'artists': track['artists'][0]['name']\n",
    "            #'release_date': track['release_date'],\n",
    "            #'id': track['id']                              \n",
    "        }\n",
    "        res.append(trck)\n",
    "    #res2=pd.DataFrame.from_dict(res)    \n",
    "    return res"
   ]
  },
  {
   "cell_type": "code",
   "execution_count": null,
   "metadata": {
    "scrolled": true
   },
   "outputs": [],
   "source": [
    "#Number of songs which we will send to spotify recomondation function\n",
    "NUM_SpotifySng= 5\n",
    "def getSpotifyRecomendedSongs(listSongs): #Input need to be DataFrame    \n",
    "    \n",
    "    #spotify_recomondation=[]\n",
    "    #display(listSongs)\n",
    "    #allRecomended=pd.DataFrame()\n",
    "    allRecomended=[]\n",
    "    # spotify function accepts max 5 songs, so we go through the list of songs and we divide them into groups ie we will \n",
    "    # first get recommended songs for the first 5 songs, then for the second 5 etc, and in the end for the rest of them (can be only 2 left)\n",
    "    while(len(listSongs)>0):        \n",
    "        if(len(listSongs)>NUM_SpotifySng):\n",
    "            first5Songs=listSongs.head(NUM_SpotifySng)\n",
    "            N = NUM_SpotifySng\n",
    "            listSongs = listSongs.tail(listSongs.shape[0] - N)\n",
    "        else:\n",
    "            first5Songs = listSongs\n",
    "            listSongs = listSongs.iloc[0:0]                        \n",
    "        \n",
    "        first5_ids=first5Songs['id'].values.tolist()    \n",
    "        spRc=sp.recommendations(seed_tracks=first5_ids)\n",
    "        recomendedNow=spotifyRecomend_extractData(spRc)\n",
    "        #allRecomended = pd.concat([allRecomended, recomendedNow], axis=0, ignore_index=True) \n",
    "        allRecomended += recomendedNow\n",
    "    return allRecomended\n",
    "\n",
    "spotify_recomended=getSpotifyRecomendedSongs(song_list_data)\n",
    "table=pd.DataFrame.from_dict(spotify_recomended)\n",
    "display(table)"
   ]
  },
  {
   "cell_type": "markdown",
   "metadata": {},
   "source": [
    "### Testing and comparing recommended song lists"
   ]
  },
  {
   "cell_type": "code",
   "execution_count": null,
   "metadata": {},
   "outputs": [],
   "source": [
    "def DisplayAsTable(inputList):\n",
    "    table=pd.DataFrame.from_dict(inputList)\n",
    "    display(table)"
   ]
  },
  {
   "cell_type": "code",
   "execution_count": null,
   "metadata": {
    "scrolled": true
   },
   "outputs": [],
   "source": [
    "ls_input_songs= song_list #(CHANGE ONLY THIS IF YOU NEED)\n",
    "df_input_songs = find_songs(ls_input_songs)  # list of songs based on which we are doing recomondation,return type: Dataframe, input: list[dict]\n",
    "spotify_recommended = getSpotifyRecomendedSongs(df_input_songs) #recomended songs by spotify based on input songs,return type: list[dict], input type: Dataframe\n",
    "kCluster_recommended= K_clustering(ls_input_songs) #input type: list[dict], output type: list[dict]\n",
    "\n",
    "\n",
    "#Display tables\n",
    "print(\"List of input songs\")\n",
    "DisplayAsTable(ls_input_songs)\n",
    "print(\"Recomended songs by K_cluster\")\n",
    "DisplayAsTable(kCluster_recommended)\n",
    "print(\"Recomended songs by spotify\")\n",
    "DisplayAsTable(spotify_recommended)\n"
   ]
  },
  {
   "cell_type": "code",
   "execution_count": null,
   "metadata": {},
   "outputs": [],
   "source": [
    "##It will return songs which are in both lists\n",
    "def getSongsFromBothRecomList(ourRecomSongs, spotifyRcmSongs): #input 2 lists[dict]\n",
    "    sgsInBoth=[]\n",
    "    for songRecom in ourRecomSongs:\n",
    "        sgName=songRecom['name']         \n",
    "        if any(d['name'] == songRecom['name'] for d in spotifyRcmSongs):\n",
    "            sgsInBoth.append(songRecom)    \n",
    "           \n",
    "    return sgsInBoth\n",
    "        \n",
    "k_vs_spotify=getSongsFromBothRecomList(kCluster_recommended,spotify_recommended)        \n",
    "DisplayAsTable(k_vs_spotify)\n"
   ]
  },
  {
   "cell_type": "code",
   "execution_count": null,
   "metadata": {},
   "outputs": [],
   "source": []
  }
 ],
 "metadata": {
  "kernelspec": {
   "display_name": "Python 3",
   "language": "python",
   "name": "python3"
  },
  "language_info": {
   "codemirror_mode": {
    "name": "ipython",
    "version": 3
   },
   "file_extension": ".py",
   "mimetype": "text/x-python",
   "name": "python",
   "nbconvert_exporter": "python",
   "pygments_lexer": "ipython3",
   "version": "3.8.6rc1"
  }
 },
 "nbformat": 4,
 "nbformat_minor": 4
}
